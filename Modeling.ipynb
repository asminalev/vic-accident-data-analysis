{
 "cells": [
  {
   "cell_type": "markdown",
   "id": "6fea747d",
   "metadata": {},
   "source": [
    "### Modeling"
   ]
  },
  {
   "cell_type": "code",
   "execution_count": 188,
   "id": "ad4526a8",
   "metadata": {},
   "outputs": [],
   "source": [
    "import numpy as np\n",
    "import pandas as pd\n",
    "import seaborn as sns\n",
    "import matplotlib.pyplot as plt\n",
    "import itertools\n",
    "\n",
    "from sklearn.model_selection import train_test_split\n",
    "from sklearn.preprocessing import StandardScaler\n",
    "from sklearn.ensemble import RandomForestClassifier\n",
    "\n",
    "from sklearn.metrics import accuracy_score\n",
    "from sklearn.metrics import confusion_matrix\n",
    "import xgboost as xgb\n",
    "\n",
    "\n",
    "from simple_colors import *\n",
    "pd.set_option('display.max_columns', None) # Unlimited.\n",
    "\n",
    "import warnings\n",
    "warnings.filterwarnings(\"ignore\")\n",
    "\n",
    "import sys\n",
    "import sklearn.neighbors._base \n",
    "sys.modules['sklearn.neighbors.base'] = sklearn.neighbors._base\n",
    "\n",
    "import sqlite3\n",
    "\n",
    "RANDOM_STATE = 42"
   ]
  },
  {
   "cell_type": "code",
   "execution_count": 2,
   "id": "47b505fc",
   "metadata": {},
   "outputs": [],
   "source": [
    "PALETTE = sns.color_palette(\"Set2\")\n",
    "sns.set_theme(\n",
    "    font_scale=1,\n",
    "    font='arial',\n",
    "    palette=sns.set_palette(sns.color_palette(PALETTE, as_cmap=False)),\n",
    "    rc={'figure.figsize':(20,10)},\n",
    "    )"
   ]
  },
  {
   "cell_type": "code",
   "execution_count": 3,
   "id": "cfa7f355",
   "metadata": {},
   "outputs": [],
   "source": [
    "conn = sqlite3.connect(\"data_base/test.db\") "
   ]
  },
  {
   "cell_type": "code",
   "execution_count": 169,
   "id": "1dfe4169",
   "metadata": {},
   "outputs": [],
   "source": [
    "sql_select_columns = '''\n",
    "\n",
    "                SELECT \n",
    "                --from ACCIDENT table\n",
    "                    severity,\n",
    "                    --accidentdate,\n",
    "                    --accidenttime,\n",
    "                    accident_type,\n",
    "                    day_of_week,\n",
    "                    light_condition,\n",
    "                    no_persons,\n",
    "                    --no_persons_killed,\n",
    "                    road_geometry,\n",
    "                    speed_zone,\n",
    "                    \n",
    "                --from ACCIDENT_EVENT table\n",
    "                    --event_type,\n",
    "                    object_type,\n",
    "                    \n",
    "                    \n",
    "                --from ATMOSPHERIC_COND table\n",
    "                    atmosph_cond,\n",
    "                    \n",
    "                    \n",
    "                --from PERSON table\n",
    "                    --sex,\n",
    "                    --age_group,\n",
    "                    --seating_position,\n",
    "                    helmet_belt_worn,\n",
    "                    road_user_type,\n",
    "                    \n",
    "                --from ROAD_SURFACE_COND table\n",
    "                    surface_cond,\n",
    "                    \n",
    "                --from VEHICLE table\n",
    "                    vehicle_year_manuf,\n",
    "                    road_surface_type,\n",
    "                    vehicle_type\n",
    "                    \n",
    "                FROM \n",
    "                    ACCIDENT as a\n",
    "                JOIN \n",
    "                    ACCIDENT_EVENT as ae      ON a.accident_no = ae.accident_no\n",
    "                JOIN\n",
    "                    ATMOSPHERIC_COND as ac    ON a.accident_no = ac.accident_no\n",
    "                JOIN\n",
    "                    PERSON as p               ON a.accident_no = p.accident_no\n",
    "                JOIN\n",
    "                    ROAD_SURFACE_COND as rsc  ON a.accident_no = rsc.accident_no\n",
    "                JOIN \n",
    "                    VEHICLE as v              ON a.accident_no = v.accident_no\n",
    "                    \n",
    "    \n",
    "            \n",
    "             '''\n",
    "df_coordinates = pd.read_sql(sql_select_columns, conn)"
   ]
  },
  {
   "cell_type": "code",
   "execution_count": 170,
   "id": "c4967fdd",
   "metadata": {},
   "outputs": [],
   "source": [
    "df_selected_columns = pd.read_sql(sql_select_columns, conn)"
   ]
  },
  {
   "cell_type": "code",
   "execution_count": 171,
   "id": "e5ae9de7",
   "metadata": {},
   "outputs": [
    {
     "data": {
      "image/png": "[encoded data removed]",
      "text/plain": [
       "<Figure size 1440x720 with 1 Axes>"
      ]
     },
     "metadata": {},
     "output_type": "display_data"
    }
   ],
   "source": [
    "data = pd.DataFrame({'cnt': list(itertools.chain(*[[row['index']] * row['cnt'] for idx, row in df_selected_columns.isnull().sum().to_frame('cnt').reset_index().iterrows()]))})\n",
    "sns.countplot(x = 'cnt', data = data)\n",
    "plt.show()"
   ]
  },
  {
   "cell_type": "markdown",
   "id": "235d1d60",
   "metadata": {},
   "source": [
    "- accidenttime has few missing values anc can be dropped.\n",
    "- seating position can be fillen with mean()\n",
    "- wehickle_year_manuf can be filled with mode()"
   ]
  },
  {
   "cell_type": "code",
   "execution_count": 172,
   "id": "4664d974",
   "metadata": {},
   "outputs": [],
   "source": [
    "df = df_selected_columns.copy()"
   ]
  },
  {
   "cell_type": "code",
   "execution_count": 173,
   "id": "612d5e51",
   "metadata": {},
   "outputs": [],
   "source": [
    "#replace_sp = df.seating_position.value_counts().argmax()\n",
    "#df['seating_position'].fillna(replace_sp, inplace=True) \n",
    "\n",
    "#replace_vym = df.seating_position.value_counts().argmax()\n",
    "df['vehicle_year_manuf'].fillna(replace_vym, inplace=True) "
   ]
  },
  {
   "cell_type": "code",
   "execution_count": 174,
   "id": "ccc6800d",
   "metadata": {
    "scrolled": true
   },
   "outputs": [
    {
     "name": "stdout",
     "output_type": "stream",
     "text": [
      "<class 'pandas.core.frame.DataFrame'>\n",
      "RangeIndex: 25003 entries, 0 to 25002\n",
      "Data columns (total 15 columns):\n",
      " #   Column              Non-Null Count  Dtype  \n",
      "---  ------              --------------  -----  \n",
      " 0   severity            25003 non-null  int64  \n",
      " 1   accident_type       25003 non-null  int64  \n",
      " 2   day_of_week         25003 non-null  int64  \n",
      " 3   light_condition     25003 non-null  int64  \n",
      " 4   no_persons          25003 non-null  int64  \n",
      " 5   road_geometry       25003 non-null  int64  \n",
      " 6   speed_zone          25003 non-null  int64  \n",
      " 7   object_type         25003 non-null  float64\n",
      " 8   atmosph_cond        25003 non-null  int64  \n",
      " 9   helmet_belt_worn    25003 non-null  int64  \n",
      " 10  road_user_type      25003 non-null  int64  \n",
      " 11  surface_cond        25003 non-null  int64  \n",
      " 12  vehicle_year_manuf  25003 non-null  float64\n",
      " 13  road_surface_type   25003 non-null  int64  \n",
      " 14  vehicle_type        25003 non-null  int64  \n",
      "dtypes: float64(2), int64(13)\n",
      "memory usage: 2.9 MB\n"
     ]
    }
   ],
   "source": [
    "df.info()"
   ]
  },
  {
   "cell_type": "code",
   "execution_count": 175,
   "id": "58f5cd43",
   "metadata": {},
   "outputs": [],
   "source": [
    "X = df.iloc[:,1:]\n",
    "y = df['severity']"
   ]
  },
  {
   "cell_type": "code",
   "execution_count": 201,
   "id": "e2f1ae8c",
   "metadata": {},
   "outputs": [],
   "source": [
    "#Train-Test split\n",
    "X_train, X_test, y_train, y_test = train_test_split(X, y, test_size=0.20, random_state=5)"
   ]
  },
  {
   "cell_type": "code",
   "execution_count": 202,
   "id": "18d72cb4",
   "metadata": {},
   "outputs": [],
   "source": [
    "# Normalize Features\n",
    "scaler = StandardScaler()\n",
    "X_train = scaler.fit_transform(X_train)\n",
    "X_test = scaler.fit_transform(X_test)"
   ]
  },
  {
   "cell_type": "code",
   "execution_count": 203,
   "id": "dcccb4d0",
   "metadata": {},
   "outputs": [],
   "source": [
    "def run_model(model, X_train, y_train, X_test, y_test, verbose=True):\n",
    "    if verbose == False:\n",
    "        model.fit(X_train,y_train, verbose=0)\n",
    "    else:\n",
    "        model.fit(X_train,y_train)\n",
    "    y_pred = model.predict(X_test)\n",
    "    accuracy = accuracy_score(y_test, y_pred) \n",
    "\n",
    "    return model, accuracy"
   ]
  },
  {
   "cell_type": "markdown",
   "id": "a982b436",
   "metadata": {},
   "source": [
    "### RandomForestClassifier"
   ]
  },
  {
   "cell_type": "code",
   "execution_count": 204,
   "id": "9fbdbe23",
   "metadata": {},
   "outputs": [],
   "source": [
    "params_rf = {'max_depth': 25,\n",
    "         'min_samples_leaf': 1,\n",
    "         'min_samples_split': 2,\n",
    "         'n_estimators': 1200,\n",
    "         'random_state': 42}\n",
    "\n",
    "model_rf = RandomForestClassifier(**params_rf)\n",
    "model_rf, accuracy_rf = run_model(model_rf, X_train, y_train, X_test, y_test)"
   ]
  },
  {
   "cell_type": "code",
   "execution_count": 205,
   "id": "54245a8f",
   "metadata": {},
   "outputs": [
    {
     "name": "stdout",
     "output_type": "stream",
     "text": [
      "The accuracy:  0.9004199160167966\n"
     ]
    }
   ],
   "source": [
    "print('The accuracy: ',accuracy_rf)"
   ]
  },
  {
   "cell_type": "code",
   "execution_count": 206,
   "id": "c68c45da",
   "metadata": {},
   "outputs": [],
   "source": [
    "y_pred = model_rf.predict(X_test)\n",
    "\n",
    "#Generate the confusion matrix\n",
    "cf_matrix = confusion_matrix(y_test, y_pred)"
   ]
  },
  {
   "cell_type": "code",
   "execution_count": 207,
   "id": "f94ec4cb",
   "metadata": {},
   "outputs": [
    {
     "data": {
      "text/plain": [
       "array([[  72,    4,   20,    0],\n",
       "       [   2, 1445,  308,    0],\n",
       "       [   2,  160, 2984,    0],\n",
       "       [   0,    2,    0,    2]])"
      ]
     },
     "execution_count": 207,
     "metadata": {},
     "output_type": "execute_result"
    }
   ],
   "source": [
    "cf_matrix"
   ]
  },
  {
   "cell_type": "code",
   "execution_count": 208,
   "id": "352307de",
   "metadata": {},
   "outputs": [],
   "source": [
    "# Creating a dataframe for a array-formatted Confusion matrix,so it will be easy for plotting.\n",
    "cm_df = pd.DataFrame(cf_matrix,\n",
    "                     index = [1,2,3,4], \n",
    "                     columns = [1,2,3,4])"
   ]
  },
  {
   "cell_type": "code",
   "execution_count": 209,
   "id": "61ad2831",
   "metadata": {},
   "outputs": [
    {
     "data": {
      "image/png": "[encoded data removed]",
      "text/plain": [
       "<Figure size 360x288 with 2 Axes>"
      ]
     },
     "metadata": {},
     "output_type": "display_data"
    }
   ],
   "source": [
    "#Plotting the confusion matrix\n",
    "plt.figure(figsize=(5,4))\n",
    "sns.heatmap(cm_df, annot=True)\n",
    "plt.title('Confusion Matrix')\n",
    "plt.ylabel('Actal Values')\n",
    "plt.xlabel('Predicted Values')\n",
    "plt.show()"
   ]
  },
  {
   "cell_type": "markdown",
   "id": "050e28fb",
   "metadata": {},
   "source": [
    "From the Confusion Matrix, we see that a majority of the __1 (Fatal accident)__ class is found correct!\n",
    "\n",
    "Most of the mis labels are labeled as __3 (minor injury accident)__\n",
    "\n",
    "We can say that that there are strong relations between features and severity of the accidents. "
   ]
  },
  {
   "cell_type": "markdown",
   "id": "c469c017",
   "metadata": {},
   "source": [
    "### Model Feature Importance"
   ]
  },
  {
   "cell_type": "code",
   "execution_count": 185,
   "id": "af65058d",
   "metadata": {},
   "outputs": [
    {
     "name": "stdout",
     "output_type": "stream",
     "text": [
      "Feature: 0, Score: 0.03427\n",
      "Feature: 1, Score: 0.14827\n",
      "Feature: 2, Score: 0.04869\n",
      "Feature: 3, Score: 0.18874\n",
      "Feature: 4, Score: 0.06960\n",
      "Feature: 5, Score: 0.11583\n",
      "Feature: 6, Score: 0.01977\n",
      "Feature: 7, Score: 0.02699\n",
      "Feature: 8, Score: 0.03393\n",
      "Feature: 9, Score: 0.02990\n",
      "Feature: 10, Score: 0.03055\n",
      "Feature: 11, Score: 0.16499\n",
      "Feature: 12, Score: 0.01575\n",
      "Feature: 13, Score: 0.07274\n"
     ]
    },
    {
     "data": {
      "text/plain": [
       "<AxesSubplot:>"
      ]
     },
     "execution_count": 185,
     "metadata": {},
     "output_type": "execute_result"
    },
    {
     "data": {
      "image/png": "[encoded data removed]",
      "text/plain": [
       "<Figure size 1440x720 with 1 Axes>"
      ]
     },
     "metadata": {},
     "output_type": "display_data"
    }
   ],
   "source": [
    "# summarize feature importance\n",
    "for i,v in enumerate(model_rf.feature_importances_):\n",
    "    print('Feature: %0d, Score: %.5f' % (i,v))\n",
    "\n",
    "feat_importances = pd.Series(model_rf.feature_importances_, index=X.columns)\n",
    "feat_importances.nlargest(20).plot(kind='barh')"
   ]
  },
  {
   "cell_type": "markdown",
   "id": "21704d08",
   "metadata": {},
   "source": [
    "__The model feature importance:__\n",
    "\n",
    "From the graph, we see the order for the feature importance. \n",
    "\n",
    "We can consider this as the indicator of the relationships between predictors and target variable.\n",
    "\n"
   ]
  },
  {
   "cell_type": "markdown",
   "id": "69d19555",
   "metadata": {},
   "source": [
    "### Improving Model Performance\n",
    "\n",
    "What can be tried to improve model performance\n",
    "\n",
    "    - Encoding data\n",
    "    - Reducing dimension\n",
    "    - Hyperparametert tuning\n",
    "    \n",
    "It would also be very helpful to do more on Feature Engineering like creating new variables. "
   ]
  },
  {
   "cell_type": "markdown",
   "id": "e6a86f70",
   "metadata": {},
   "source": [
    "### Conclusion\n",
    "\n",
    "We trained RandomForest the data with the selected columns and plot the confusion matrix.\n",
    "\n",
    "From the confusion matrix we see that 1 leve injuries have a high accuracy to be found.  \n",
    "\n",
    "From the feature importance graph we see that the relavance is listed as:\n",
    "\n",
    "- number of people involved, \n",
    "- the production year of vehicle, \n",
    "- day of week, \n",
    "- speed zone \n",
    "\n",
    "It is important to see the cars and roads are the biggest effect on causing the level of the injury. \n",
    "\n",
    "\n",
    "__Note__: Further Steps for Improvement:\n",
    "\n",
    "    - Missing Values can be handled with more advance techniques like using K-Means or Hierarchical clustering to predict missing values. \n",
    "    - Different search methods can be used for hyperparameter tunning\n",
    "    - More can be done on Feature Engineering like creating new and relevant features.\n",
    "\n"
   ]
  },
  {
   "cell_type": "code",
   "execution_count": null,
   "id": "43ab2b13",
   "metadata": {},
   "outputs": [],
   "source": []
  }
 ],
 "metadata": {
  "kernelspec": {
   "display_name": "Python 3 (ipykernel)",
   "language": "python",
   "name": "python3"
  },
  "language_info": {
   "codemirror_mode": {
    "name": "ipython",
    "version": 3
   },
   "file_extension": ".py",
   "mimetype": "text/x-python",
   "name": "python",
   "nbconvert_exporter": "python",
   "pygments_lexer": "ipython3",
   "version": "3.9.12"
  }
 },
 "nbformat": 4,
 "nbformat_minor": 5
}
